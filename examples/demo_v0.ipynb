{
 "cells": [
  {
   "cell_type": "code",
   "execution_count": 1,
   "metadata": {},
   "outputs": [],
   "source": [
    "import nestpy\n",
    "import numpy as np\n",
    "import matplotlib.pyplot as plt\n",
    "import time"
   ]
  },
  {
   "cell_type": "code",
   "execution_count": 2,
   "metadata": {},
   "outputs": [
    {
     "name": "stdout",
     "output_type": "stream",
     "text": [
      "544.95 200.0 80.0 130.0\n"
     ]
    }
   ],
   "source": [
    "\n",
    "#create detector\n",
    "detector = nestpy.DetectorExample_LUX_RUN03()\n",
    "\n",
    "z_max = detector.get_TopDrift()\n",
    "r_max = detector.get_radius() # fid radius??\n",
    "dt_min = detector.get_dt_min() # analysis min dt\n",
    "dt_max = detector.get_dt_max() # analysis max dt\n",
    "print(z_max, r_max, dt_min, dt_max)"
   ]
  },
  {
   "cell_type": "code",
   "execution_count": null,
   "metadata": {},
   "outputs": [],
   "source": [
    "# run a single recoil\n",
    "keV=10\n",
    "type_num = nestpy.INTERACTION_TYPE(0) # NR\n",
    "pos_x, pos_y, pos_z = 0., 0., z_max/2.\n",
    "inField=180\n",
    "\n",
    "obs = nestpy.runNEST(detector, keV, type_num, inField, pos_x, pos_y, pos_z, seed=0)\n",
    "\n",
    "s1c_phd = obs.s1c_phd\n",
    "s2c_phd = obs.s2c_phd\n",
    "print(s1c_phd, s2c_phd)"
   ]
  },
  {
   "cell_type": "code",
   "execution_count": 3,
   "metadata": {},
   "outputs": [],
   "source": [
    "# run many recoils with vectorized arguments\n",
    "\n",
    "\n",
    "n_events=100\n",
    "keV=np.linspace(0, 100, n_events)\n",
    "type_num = nestpy.INTERACTION_TYPE(0) # NR\n",
    "\n",
    "r = np.random.uniform(low=0, high=r_max, size=n_events)\n",
    "phi = np.random.uniform(low=0, high=2*np.pi, size=n_events)\n",
    "pos_x = r * np.cos(phi);\n",
    "pos_y = r * np.sin(phi);\n",
    "pos_z = np.random.uniform(low=0, high=z_max, size=n_events)\n",
    "\n",
    "\n",
    "inField=180\n",
    "obs_arr = nestpy.runNEST_vec(detector, keV.tolist(), type_num, inField, pos_x.tolist(), pos_y.tolist(), pos_z.tolist(), 0)\n",
    "s1 = obs_arr.s1c_phd\n",
    "s2 = obs_arr.s2c_phd\n"
   ]
  },
  {
   "cell_type": "code",
   "execution_count": 4,
   "metadata": {},
   "outputs": [
    {
     "name": "stderr",
     "output_type": "stream",
     "text": [
      "/Users/xinxiang/anaconda3/lib/python3.6/site-packages/ipykernel_launcher.py:1: RuntimeWarning: invalid value encountered in log10\n",
      "  \"\"\"Entry point for launching an IPython kernel.\n"
     ]
    },
    {
     "data": {
      "image/png": "[encoded data removed]",
      "text/plain": [
       "<Figure size 432x288 with 1 Axes>"
      ]
     },
     "metadata": {},
     "output_type": "display_data"
    }
   ],
   "source": [
    "plt.scatter(s1, np.log10(s2))\n",
    "plt.show()"
   ]
  },
  {
   "cell_type": "code",
   "execution_count": null,
   "metadata": {},
   "outputs": [],
   "source": []
  },
  {
   "cell_type": "code",
   "execution_count": null,
   "metadata": {},
   "outputs": [],
   "source": []
  }
 ],
 "metadata": {
  "kernelspec": {
   "display_name": "Python 3",
   "language": "python",
   "name": "python3"
  },
  "language_info": {
   "codemirror_mode": {
    "name": "ipython",
    "version": 3
   },
   "file_extension": ".py",
   "mimetype": "text/x-python",
   "name": "python",
   "nbconvert_exporter": "python",
   "pygments_lexer": "ipython3",
   "version": "3.6.5"
  }
 },
 "nbformat": 4,
 "nbformat_minor": 2
}
