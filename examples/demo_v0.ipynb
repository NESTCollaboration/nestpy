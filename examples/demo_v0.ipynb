{
 "cells": [
  {
   "cell_type": "code",
   "execution_count": 1,
   "metadata": {},
   "outputs": [],
   "source": [
    "import nestpy\n",
    "import numpy as np\n",
    "import matplotlib.pyplot as plt\n",
    "import time"
   ]
  },
  {
   "cell_type": "code",
   "execution_count": 2,
   "metadata": {},
   "outputs": [
    {
     "name": "stdout",
     "output_type": "stream",
     "text": [
      "T_Kelvin: 173.0\n",
      "radius: 200.0\n",
      "dt_min: 80.0\n",
      "dt_max: 130.0\n",
      "anode: 549.2\n",
      "cathode: 55.9\n",
      "T_Kelvin: 173.0\n",
      "p_bar: 1.57\n"
     ]
    }
   ],
   "source": [
    "\n",
    "#create detector\n",
    "detector = nestpy.DetectorExample_LUX_RUN03()\n",
    "\n",
    "# inspect detector parameters\n",
    "# # feel free to inspect more\n",
    "z_max = detector.get_TopDrift() \n",
    "radius = detector.get_radius() # right fid radius?? TBD\n",
    "dt_min = detector.get_dt_min() # right min dt?? TBD\n",
    "dt_max = detector.get_dt_max() # right max dt?? TBD\n",
    "anode = detector.get_anode()\n",
    "cathode = detector.get_cathode()\n",
    "T_Kelvin = detector.get_T_Kelvin() \n",
    "p_bar = detector.get_p_bar() \n",
    "\n",
    "print('T_Kelvin:', T_Kelvin)\n",
    "print('radius:', radius)\n",
    "print('dt_min:', dt_min)\n",
    "print('dt_max:', dt_max)\n",
    "print('anode:', anode)\n",
    "print('cathode:', cathode)\n",
    "print('T_Kelvin:', T_Kelvin)\n",
    "print('p_bar:', p_bar)"
   ]
  },
  {
   "cell_type": "code",
   "execution_count": 3,
   "metadata": {},
   "outputs": [
    {
     "name": "stdout",
     "output_type": "stream",
     "text": [
      "6.532790408546776 590.173217059425\n"
     ]
    }
   ],
   "source": [
    "# run a single recoil\n",
    "keV=10\n",
    "type_num = nestpy.INTERACTION_TYPE(0) # NR\n",
    "pos_x, pos_y, pos_z = 0., 0., z_max/2.\n",
    "inField=180\n",
    "\n",
    "obs = nestpy.runNEST(detector, keV, type_num, inField, pos_x, pos_y, pos_z, seed=0)\n",
    "s1c_phd = obs.s1c_phd\n",
    "s2c_phd = obs.s2c_phd\n",
    "print(s1c_phd, s2c_phd)"
   ]
  },
  {
   "cell_type": "code",
   "execution_count": 5,
   "metadata": {},
   "outputs": [],
   "source": [
    "# run many recoils with vectorized arguments\n",
    "\n",
    "# somehow detector is deleted once runNEST is finished\n",
    "# just declare it again here\n",
    "detector = nestpy.DetectorExample_LUX_RUN03()\n",
    "\n",
    "n_events=1000\n",
    "keV=np.linspace(0, 100, n_events)\n",
    "type_num = nestpy.INTERACTION_TYPE(0) # NR\n",
    "\n",
    "r = np.random.uniform(low=0, high=radius, size=n_events)\n",
    "phi = np.random.uniform(low=0, high=2*np.pi, size=n_events)\n",
    "pos_x = r * np.cos(phi);\n",
    "pos_y = r * np.sin(phi);\n",
    "pos_z = np.random.uniform(low=0, high=z_max, size=n_events)\n",
    "\n",
    "inField=180\n",
    "obs_arr = nestpy.runNEST_vec(detector, keV.tolist(), type_num, inField, pos_x.tolist(), pos_y.tolist(), pos_z.tolist(), 0)\n",
    "s1 = obs_arr.s1c_phd\n",
    "s2 = obs_arr.s2c_phd\n"
   ]
  },
  {
   "cell_type": "code",
   "execution_count": 6,
   "metadata": {},
   "outputs": [
    {
     "name": "stderr",
     "output_type": "stream",
     "text": [
      "/Users/xinxiang/anaconda3/lib/python3.6/site-packages/ipykernel_launcher.py:1: RuntimeWarning: invalid value encountered in log10\n",
      "  \"\"\"Entry point for launching an IPython kernel.\n"
     ]
    },
    {
     "data": {
      "image/png": "[encoded data removed]",
      "text/plain": [
       "<Figure size 432x288 with 1 Axes>"
      ]
     },
     "metadata": {},
     "output_type": "display_data"
    }
   ],
   "source": [
    "plt.scatter(s1, np.log10(s2))\n",
    "plt.show()"
   ]
  },
  {
   "cell_type": "code",
   "execution_count": null,
   "metadata": {},
   "outputs": [],
   "source": []
  }
 ],
 "metadata": {
  "kernelspec": {
   "display_name": "Python 3",
   "language": "python",
   "name": "python3"
  },
  "language_info": {
   "codemirror_mode": {
    "name": "ipython",
    "version": 3
   },
   "file_extension": ".py",
   "mimetype": "text/x-python",
   "name": "python",
   "nbconvert_exporter": "python",
   "pygments_lexer": "ipython3",
   "version": "3.6.5"
  }
 },
 "nbformat": 4,
 "nbformat_minor": 2
}
